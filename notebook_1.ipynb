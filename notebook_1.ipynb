{
  "nbformat": 4,
  "nbformat_minor": 0,
  "metadata": {
    "colab": {
      "provenance": []
    },
    "kernelspec": {
      "name": "python3",
      "display_name": "Python 3"
    },
    "language_info": {
      "name": "python"
    }
  },
  "cells": [
    {
      "cell_type": "code",
      "execution_count": null,
      "metadata": {
        "colab": {
          "base_uri": "https://localhost:8080/"
        },
        "id": "aB7JtRZUoK5H",
        "outputId": "faf5e804-bf0a-445f-ef4c-91c04238cf9a"
      },
      "outputs": [
        {
          "output_type": "stream",
          "name": "stdout",
          "text": [
            "Mounted at /content/drive\n"
          ]
        }
      ],
      "source": [
        "from google.colab import drive\n",
        "drive.mount('/content/drive')\n"
      ]
    },
    {
      "cell_type": "code",
      "source": [
        "import os\n",
        "\n",
        "root = '/content/drive/MyDrive/ds_divya'\n",
        "\n",
        "folders = [\n",
        "    root,\n",
        "    f'{root}/csv_files',\n",
        "    f'{root}/outputs'\n",
        "]\n",
        "\n",
        "for folder in folders:\n",
        "    os.makedirs(folder, exist_ok=True)\n",
        "\n",
        "print(\"Folder structure created successfully!\")\n"
      ],
      "metadata": {
        "colab": {
          "base_uri": "https://localhost:8080/"
        },
        "id": "reuLSNSXrl75",
        "outputId": "04f40395-b4da-4b19-f96b-3582c184a53f"
      },
      "execution_count": null,
      "outputs": [
        {
          "output_type": "stream",
          "name": "stdout",
          "text": [
            "Folder structure created successfully!\n"
          ]
        }
      ]
    },
    {
      "cell_type": "code",
      "source": [
        "import pandas as pd\n",
        "import gdown\n",
        "import os\n",
        "\n",
        "trader_file_id = \"1IAfLZwu6rJzyWKgBToqwSmmVYU6VbjVs\"\n",
        "sentiment_file_id = \"1PgQC0tO8XN-wqkNyghWc_-mnrYv_nhSf\"\n",
        "\n",
        "trader_path = f'{root}/csv_files/raw_traders.csv'\n",
        "sentiment_path = f'{root}/csv_files/fear_greed.csv'\n",
        "\n",
        "# Download files from Google Drive using gdown\n",
        "gdown.download(f'https://drive.google.com/uc?id={trader_file_id}', trader_path, quiet=False)\n",
        "gdown.download(f'https://drive.google.com/uc?id={sentiment_file_id}', sentiment_path, quiet=False)\n",
        "\n",
        "# Read the downloaded CSV files\n",
        "traders = pd.read_csv(trader_path, low_memory=False)\n",
        "fear_greed = pd.read_csv(sentiment_path, low_memory=False)\n",
        "\n",
        "print(\"Files downloaded and read successfully!\")\n"
      ],
      "metadata": {
        "id": "3bdiVSWJsIbb"
      },
      "execution_count": null,
      "outputs": []
    },
    {
      "cell_type": "code",
      "source": [
        "\n",
        "traders.columns = [c.strip().lower().replace(' ', '_') for c in traders.columns]\n",
        "fear_greed.columns = [c.strip().lower().replace(' ', '_') for c in fear_greed.columns]\n",
        "\n",
        "print(\"Trader cols:\", traders.columns.tolist()[:30])\n",
        "print(\"Fear_greed cols:\", fear_greed.columns.tolist())\n",
        "print(traders.head(3))\n"
      ],
      "metadata": {
        "colab": {
          "base_uri": "https://localhost:8080/"
        },
        "id": "EsJhfpiutK7_",
        "outputId": "71e01ec5-bbd9-4cf5-b840-3efbb4876303"
      },
      "execution_count": null,
      "outputs": [
        {
          "output_type": "stream",
          "name": "stdout",
          "text": [
            "Trader cols: ['account', 'coin', 'execution_price', 'size_tokens', 'size_usd', 'side', 'timestamp_ist', 'start_position', 'direction', 'closed_pnl', 'transaction_hash', 'order_id', 'crossed', 'fee', 'trade_id', 'timestamp']\n",
            "Fear_greed cols: ['timestamp', 'value', 'classification', 'date']\n",
            "                                      account  coin  execution_price  \\\n",
            "0  0xae5eacaf9c6b9111fd53034a602c192a04e082ed  @107           7.9769   \n",
            "1  0xae5eacaf9c6b9111fd53034a602c192a04e082ed  @107           7.9800   \n",
            "2  0xae5eacaf9c6b9111fd53034a602c192a04e082ed  @107           7.9855   \n",
            "\n",
            "   size_tokens  size_usd side     timestamp_ist  start_position direction  \\\n",
            "0       986.87   7872.16  BUY  02-12-2024 22:50        0.000000       Buy   \n",
            "1        16.00    127.68  BUY  02-12-2024 22:50      986.524596       Buy   \n",
            "2       144.09   1150.63  BUY  02-12-2024 22:50     1002.518996       Buy   \n",
            "\n",
            "   closed_pnl                                   transaction_hash     order_id  \\\n",
            "0         0.0  0xec09451986a1874e3a980418412fcd0201f500c95bac...  52017706630   \n",
            "1         0.0  0xec09451986a1874e3a980418412fcd0201f500c95bac...  52017706630   \n",
            "2         0.0  0xec09451986a1874e3a980418412fcd0201f500c95bac...  52017706630   \n",
            "\n",
            "   crossed       fee      trade_id     timestamp  \n",
            "0     True  0.345404  8.950000e+14  1.730000e+12  \n",
            "1     True  0.005600  4.430000e+14  1.730000e+12  \n",
            "2     True  0.050431  6.600000e+14  1.730000e+12  \n"
          ]
        }
      ]
    },
    {
      "cell_type": "code",
      "source": [
        "#Convert time columns to datetimes and create a 'date' column (normalize to date)\n",
        "import numpy as np\n",
        "from datetime import datetime, timezone\n",
        "\n",
        "# Example: traders has 'timestamp_ist' with format '02-12-2024 22:50' (dd-mm-yyyy HH:MM)\n",
        "possible_time_cols = [c for c in traders.columns if 'timestamp' in c or 'time' in c or 'date' in c]\n",
        "print(\"Possible trader time cols:\", possible_time_cols)\n",
        "\n",
        "# Adapt these names to your file:\n",
        "TRADER_TIME_COL = 'timestamp_ist' if 'timestamp_ist' in traders.columns else possible_time_cols[0]\n",
        "\n",
        "# parse trader timestamps robustly\n",
        "def parse_mixed_datetime(s):\n",
        "    # try common formats\n",
        "    for fmt in (\"%d-%m-%Y %H:%M\", \"%Y-%m-%d %H:%M:%S\", \"%d/%m/%Y %H:%M:%S\", \"%m/%d/%Y %H:%M\"):\n",
        "        try:\n",
        "            return datetime.strptime(s, fmt)\n",
        "        except Exception:\n",
        "            continue\n",
        "    # fallback: try pandas to_datetime\n",
        "    try:\n",
        "        return pd.to_datetime(s, infer_datetime_format=True, utc=False)\n",
        "    except Exception:\n",
        "        return pd.NaT\n",
        "\n",
        "# Apply parse\n",
        "traders[TRADER_TIME_COL] = traders[TRADER_TIME_COL].astype(str)\n",
        "traders['time_parsed'] = traders[TRADER_TIME_COL].apply(parse_mixed_datetime)\n",
        "traders['date'] = pd.to_datetime(traders['time_parsed']).dt.normalize()\n",
        "\n",
        "# fear_greed dataset sample shows UNIX timestamps (e.g., 1517463000) and a date column — handle both\n",
        "if 'timestamp' in fear_greed.columns and fear_greed['timestamp'].dtype in [np.int64, np.float64, 'int64', 'float64']:\n",
        "    fear_greed['time_parsed'] = pd.to_datetime(fear_greed['timestamp'], unit='s')\n",
        "elif 'timestamp' in fear_greed.columns:\n",
        "    fear_greed['time_parsed'] = pd.to_datetime(fear_greed['timestamp'], unit='s', errors='coerce')\n",
        "elif 'date' in fear_greed.columns:\n",
        "    fear_greed['time_parsed'] = pd.to_datetime(fear_greed['date'], errors='coerce')\n",
        "\n",
        "fear_greed['date'] = pd.to_datetime(fear_greed['time_parsed']).dt.normalize()\n",
        "\n",
        "print(traders[['date','time_parsed']].head())\n",
        "print(fear_greed[['date','time_parsed']].head())"
      ],
      "metadata": {
        "colab": {
          "base_uri": "https://localhost:8080/"
        },
        "id": "hf2Rz4urtUR6",
        "outputId": "eac8f6b6-f2df-482e-ef5f-7c33fb7ee7b0"
      },
      "execution_count": null,
      "outputs": [
        {
          "output_type": "stream",
          "name": "stdout",
          "text": [
            "Possible trader time cols: ['timestamp_ist', 'timestamp', 'time_parsed', 'date']\n",
            "        date         time_parsed\n",
            "0 2024-12-02 2024-12-02 22:50:00\n",
            "1 2024-12-02 2024-12-02 22:50:00\n",
            "2 2024-12-02 2024-12-02 22:50:00\n",
            "3 2024-12-02 2024-12-02 22:50:00\n",
            "4 2024-12-02 2024-12-02 22:50:00\n",
            "        date         time_parsed\n",
            "0 2018-02-01 2018-02-01 05:30:00\n",
            "1 2018-02-02 2018-02-02 05:30:00\n",
            "2 2018-02-03 2018-02-03 05:30:00\n",
            "3 2018-02-04 2018-02-04 05:30:00\n",
            "4 2018-02-05 2018-02-05 05:30:00\n"
          ]
        }
      ]
    },
    {
      "cell_type": "code",
      "source": [
        "#  Convert numeric-like columns and compute notional = size_usd if present else size_tokens * execution_price\n",
        "num_cols = ['execution_price','size_tokens','size_usd','closed_pnl','fee','leverage']  # adapt to your CSV names\n",
        "for c in num_cols:\n",
        "    if c in traders.columns:\n",
        "        traders[c] = pd.to_numeric(traders[c], errors='coerce')\n",
        "\n",
        "# Some datasets use 'size usd' or 'size_usd', check both:\n",
        "if 'size_usd' not in traders.columns and 'size_usd' not in traders.columns:\n",
        "    # compute\n",
        "    if 'size_tokens' in traders.columns and 'execution_price' in traders.columns:\n",
        "        traders['notional'] = traders['size_tokens'] * traders['execution_price']\n",
        "else:\n",
        "    traders['notional'] = traders.get('size_usd', traders.get('notional', None))\n",
        "\n",
        "# Ensure closedPnL numeric\n",
        "if 'closed_pnl' in traders.columns:\n",
        "    traders['closed_pnl'] = pd.to_numeric(traders['closed_pnl'], errors='coerce')\n",
        "\n",
        "# Create indicator: profitable trade\n",
        "traders['is_profitable'] = traders['closed_pnl'].fillna(0) > 0\n",
        "\n",
        "# Define CSV_DIR using the root variable\n",
        "CSV_DIR = f'{root}/csv_files'\n",
        "\n",
        "# Save an intermediate processed file\n",
        "traders.to_csv(os.path.join(CSV_DIR, 'processed_traders.csv'), index=False)\n",
        "print(\"Processed traders saved:\", traders.shape)"
      ],
      "metadata": {
        "colab": {
          "base_uri": "https://localhost:8080/"
        },
        "id": "UjYm-u_8tUTO",
        "outputId": "d9f3c89b-ef23-43d4-ae6f-0d69fb3d8825"
      },
      "execution_count": null,
      "outputs": [
        {
          "output_type": "stream",
          "name": "stdout",
          "text": [
            "Processed traders saved: (211224, 20)\n"
          ]
        }
      ]
    },
    {
      "cell_type": "code",
      "source": [
        "# Merge sentiment classification into trades by date\n",
        "# Ensure sentiment classification column name: 'classification' or 'classification' variant\n",
        "sent_col = 'classification' if 'classification' in fear_greed.columns else next((c for c in fear_greed.columns if 'class' in c), None)\n",
        "if sent_col is None:\n",
        "    raise ValueError(\"Cannot find sentiment/classification column in sentiment dataset\")\n",
        "\n",
        "# pick the sentiment label (e.g., 'Fear', 'Greed', 'Extreme Fear' etc.)\n",
        "sent_small = fear_greed[['date', sent_col]].drop_duplicates().rename(columns={sent_col: 'sentiment'})\n",
        "\n",
        "# Left-join traders on date (trades -> daily sentiment)\n",
        "merged = traders.merge(sent_small, on='date', how='left')\n",
        "\n",
        "# If sentiment is missing for some trade dates, optionally forward/backward fill using nearest day\n",
        "merged['sentiment'] = merged['sentiment'].fillna(method='ffill').fillna(method='bfill')\n",
        "\n",
        "# Quick check\n",
        "print(\"Merged:\", merged.shape)\n",
        "print(merged[['date','sentiment']].drop_duplicates().head(10))\n",
        "\n",
        "# Save merged\n",
        "merged.to_csv(os.path.join(CSV_DIR, 'trades_with_sentiment.csv'), index=False)\n"
      ],
      "metadata": {
        "colab": {
          "base_uri": "https://localhost:8080/"
        },
        "id": "GtTuQxgkwSZf",
        "outputId": "b4623e77-6f5c-4902-9c1b-7cd86ea7d504"
      },
      "execution_count": null,
      "outputs": [
        {
          "output_type": "stream",
          "name": "stderr",
          "text": [
            "/tmp/ipython-input-3308723432.py:14: FutureWarning: Series.fillna with 'method' is deprecated and will raise in a future version. Use obj.ffill() or obj.bfill() instead.\n",
            "  merged['sentiment'] = merged['sentiment'].fillna(method='ffill').fillna(method='bfill')\n"
          ]
        },
        {
          "output_type": "stream",
          "name": "stdout",
          "text": [
            "Merged: (211224, 21)\n",
            "          date      sentiment\n",
            "0   2024-12-02  Extreme Greed\n",
            "44  2024-12-03  Extreme Greed\n",
            "189 2024-12-04  Extreme Greed\n",
            "190 2025-03-04   Extreme Fear\n",
            "211 2025-03-05   Extreme Fear\n",
            "220 2025-03-11   Extreme Fear\n",
            "224 2025-03-18           Fear\n",
            "262 2025-04-08   Extreme Fear\n",
            "295 2025-04-09   Extreme Fear\n",
            "308 2025-04-10           Fear\n"
          ]
        }
      ]
    },
    {
      "cell_type": "code",
      "source": [
        "#  Aggregate to daily metrics\n",
        "daily = merged.groupby('date').agg(\n",
        "    net_pnl = ('closed_pnl', 'sum'),\n",
        "    # avg_leverage = ('leverage', 'mean'),\n",
        "    # median_leverage = ('leverage', 'median'),\n",
        "    total_volume = ('notional', 'sum'),\n",
        "    trades = ('account', 'count'),\n",
        "    profit_rate = ('is_profitable', 'mean'),\n",
        "    sentiment = ('sentiment', 'first')\n",
        ").reset_index()\n",
        "\n",
        "daily['cumulative_net_pnl'] = daily['net_pnl'].cumsum()\n",
        "daily.to_csv(os.path.join(CSV_DIR, 'daily_aggregates.csv'), index=False)\n",
        "display(daily.head())"
      ],
      "metadata": {
        "colab": {
          "base_uri": "https://localhost:8080/",
          "height": 206
        },
        "id": "XCMRWo_Swngp",
        "outputId": "55dd794f-c423-4ffa-e6b9-9adee1e0984a"
      },
      "execution_count": null,
      "outputs": [
        {
          "output_type": "display_data",
          "data": {
            "text/plain": [
              "        date     net_pnl  total_volume  trades  profit_rate      sentiment  \\\n",
              "0 2023-05-01    0.000000        477.00       3     0.000000          Greed   \n",
              "1 2023-12-05    0.000000      50005.83       9     0.000000  Extreme Greed   \n",
              "2 2023-12-14 -205.434737     113203.35      11     0.363636          Greed   \n",
              "3 2023-12-15  -24.632034      10609.95       2     0.000000          Greed   \n",
              "4 2023-12-16    0.000000      15348.77       3     0.000000          Greed   \n",
              "\n",
              "   cumulative_net_pnl  \n",
              "0            0.000000  \n",
              "1            0.000000  \n",
              "2         -205.434737  \n",
              "3         -230.066771  \n",
              "4         -230.066771  "
            ],
            "text/html": [
              "\n",
              "  <div id=\"df-b5806bc6-636c-47ae-a720-737df255d4f9\" class=\"colab-df-container\">\n",
              "    <div>\n",
              "<style scoped>\n",
              "    .dataframe tbody tr th:only-of-type {\n",
              "        vertical-align: middle;\n",
              "    }\n",
              "\n",
              "    .dataframe tbody tr th {\n",
              "        vertical-align: top;\n",
              "    }\n",
              "\n",
              "    .dataframe thead th {\n",
              "        text-align: right;\n",
              "    }\n",
              "</style>\n",
              "<table border=\"1\" class=\"dataframe\">\n",
              "  <thead>\n",
              "    <tr style=\"text-align: right;\">\n",
              "      <th></th>\n",
              "      <th>date</th>\n",
              "      <th>net_pnl</th>\n",
              "      <th>total_volume</th>\n",
              "      <th>trades</th>\n",
              "      <th>profit_rate</th>\n",
              "      <th>sentiment</th>\n",
              "      <th>cumulative_net_pnl</th>\n",
              "    </tr>\n",
              "  </thead>\n",
              "  <tbody>\n",
              "    <tr>\n",
              "      <th>0</th>\n",
              "      <td>2023-05-01</td>\n",
              "      <td>0.000000</td>\n",
              "      <td>477.00</td>\n",
              "      <td>3</td>\n",
              "      <td>0.000000</td>\n",
              "      <td>Greed</td>\n",
              "      <td>0.000000</td>\n",
              "    </tr>\n",
              "    <tr>\n",
              "      <th>1</th>\n",
              "      <td>2023-12-05</td>\n",
              "      <td>0.000000</td>\n",
              "      <td>50005.83</td>\n",
              "      <td>9</td>\n",
              "      <td>0.000000</td>\n",
              "      <td>Extreme Greed</td>\n",
              "      <td>0.000000</td>\n",
              "    </tr>\n",
              "    <tr>\n",
              "      <th>2</th>\n",
              "      <td>2023-12-14</td>\n",
              "      <td>-205.434737</td>\n",
              "      <td>113203.35</td>\n",
              "      <td>11</td>\n",
              "      <td>0.363636</td>\n",
              "      <td>Greed</td>\n",
              "      <td>-205.434737</td>\n",
              "    </tr>\n",
              "    <tr>\n",
              "      <th>3</th>\n",
              "      <td>2023-12-15</td>\n",
              "      <td>-24.632034</td>\n",
              "      <td>10609.95</td>\n",
              "      <td>2</td>\n",
              "      <td>0.000000</td>\n",
              "      <td>Greed</td>\n",
              "      <td>-230.066771</td>\n",
              "    </tr>\n",
              "    <tr>\n",
              "      <th>4</th>\n",
              "      <td>2023-12-16</td>\n",
              "      <td>0.000000</td>\n",
              "      <td>15348.77</td>\n",
              "      <td>3</td>\n",
              "      <td>0.000000</td>\n",
              "      <td>Greed</td>\n",
              "      <td>-230.066771</td>\n",
              "    </tr>\n",
              "  </tbody>\n",
              "</table>\n",
              "</div>\n",
              "    <div class=\"colab-df-buttons\">\n",
              "\n",
              "  <div class=\"colab-df-container\">\n",
              "    <button class=\"colab-df-convert\" onclick=\"convertToInteractive('df-b5806bc6-636c-47ae-a720-737df255d4f9')\"\n",
              "            title=\"Convert this dataframe to an interactive table.\"\n",
              "            style=\"display:none;\">\n",
              "\n",
              "  <svg xmlns=\"http://www.w3.org/2000/svg\" height=\"24px\" viewBox=\"0 -960 960 960\">\n",
              "    <path d=\"M120-120v-720h720v720H120Zm60-500h600v-160H180v160Zm220 220h160v-160H400v160Zm0 220h160v-160H400v160ZM180-400h160v-160H180v160Zm440 0h160v-160H620v160ZM180-180h160v-160H180v160Zm440 0h160v-160H620v160Z\"/>\n",
              "  </svg>\n",
              "    </button>\n",
              "\n",
              "  <style>\n",
              "    .colab-df-container {\n",
              "      display:flex;\n",
              "      gap: 12px;\n",
              "    }\n",
              "\n",
              "    .colab-df-convert {\n",
              "      background-color: #E8F0FE;\n",
              "      border: none;\n",
              "      border-radius: 50%;\n",
              "      cursor: pointer;\n",
              "      display: none;\n",
              "      fill: #1967D2;\n",
              "      height: 32px;\n",
              "      padding: 0 0 0 0;\n",
              "      width: 32px;\n",
              "    }\n",
              "\n",
              "    .colab-df-convert:hover {\n",
              "      background-color: #E2EBFA;\n",
              "      box-shadow: 0px 1px 2px rgba(60, 64, 67, 0.3), 0px 1px 3px 1px rgba(60, 64, 67, 0.15);\n",
              "      fill: #174EA6;\n",
              "    }\n",
              "\n",
              "    .colab-df-buttons div {\n",
              "      margin-bottom: 4px;\n",
              "    }\n",
              "\n",
              "    [theme=dark] .colab-df-convert {\n",
              "      background-color: #3B4455;\n",
              "      fill: #D2E3FC;\n",
              "    }\n",
              "\n",
              "    [theme=dark] .colab-df-convert:hover {\n",
              "      background-color: #434B5C;\n",
              "      box-shadow: 0px 1px 3px 1px rgba(0, 0, 0, 0.15);\n",
              "      filter: drop-shadow(0px 1px 2px rgba(0, 0, 0, 0.3));\n",
              "      fill: #FFFFFF;\n",
              "    }\n",
              "  </style>\n",
              "\n",
              "    <script>\n",
              "      const buttonEl =\n",
              "        document.querySelector('#df-b5806bc6-636c-47ae-a720-737df255d4f9 button.colab-df-convert');\n",
              "      buttonEl.style.display =\n",
              "        google.colab.kernel.accessAllowed ? 'block' : 'none';\n",
              "\n",
              "      async function convertToInteractive(key) {\n",
              "        const element = document.querySelector('#df-b5806bc6-636c-47ae-a720-737df255d4f9');\n",
              "        const dataTable =\n",
              "          await google.colab.kernel.invokeFunction('convertToInteractive',\n",
              "                                                    [key], {});\n",
              "        if (!dataTable) return;\n",
              "\n",
              "        const docLinkHtml = 'Like what you see? Visit the ' +\n",
              "          '<a target=\"_blank\" href=https://colab.research.google.com/notebooks/data_table.ipynb>data table notebook</a>'\n",
              "          + ' to learn more about interactive tables.';\n",
              "        element.innerHTML = '';\n",
              "        dataTable['output_type'] = 'display_data';\n",
              "        await google.colab.output.renderOutput(dataTable, element);\n",
              "        const docLink = document.createElement('div');\n",
              "        docLink.innerHTML = docLinkHtml;\n",
              "        element.appendChild(docLink);\n",
              "      }\n",
              "    </script>\n",
              "  </div>\n",
              "\n",
              "\n",
              "    <div id=\"df-e94456be-458a-4005-9d5e-b5a0aee0d8e9\">\n",
              "      <button class=\"colab-df-quickchart\" onclick=\"quickchart('df-e94456be-458a-4005-9d5e-b5a0aee0d8e9')\"\n",
              "                title=\"Suggest charts\"\n",
              "                style=\"display:none;\">\n",
              "\n",
              "<svg xmlns=\"http://www.w3.org/2000/svg\" height=\"24px\"viewBox=\"0 0 24 24\"\n",
              "     width=\"24px\">\n",
              "    <g>\n",
              "        <path d=\"M19 3H5c-1.1 0-2 .9-2 2v14c0 1.1.9 2 2 2h14c1.1 0 2-.9 2-2V5c0-1.1-.9-2-2-2zM9 17H7v-7h2v7zm4 0h-2V7h2v10zm4 0h-2v-4h2v4z\"/>\n",
              "    </g>\n",
              "</svg>\n",
              "      </button>\n",
              "\n",
              "<style>\n",
              "  .colab-df-quickchart {\n",
              "      --bg-color: #E8F0FE;\n",
              "      --fill-color: #1967D2;\n",
              "      --hover-bg-color: #E2EBFA;\n",
              "      --hover-fill-color: #174EA6;\n",
              "      --disabled-fill-color: #AAA;\n",
              "      --disabled-bg-color: #DDD;\n",
              "  }\n",
              "\n",
              "  [theme=dark] .colab-df-quickchart {\n",
              "      --bg-color: #3B4455;\n",
              "      --fill-color: #D2E3FC;\n",
              "      --hover-bg-color: #434B5C;\n",
              "      --hover-fill-color: #FFFFFF;\n",
              "      --disabled-bg-color: #3B4455;\n",
              "      --disabled-fill-color: #666;\n",
              "  }\n",
              "\n",
              "  .colab-df-quickchart {\n",
              "    background-color: var(--bg-color);\n",
              "    border: none;\n",
              "    border-radius: 50%;\n",
              "    cursor: pointer;\n",
              "    display: none;\n",
              "    fill: var(--fill-color);\n",
              "    height: 32px;\n",
              "    padding: 0;\n",
              "    width: 32px;\n",
              "  }\n",
              "\n",
              "  .colab-df-quickchart:hover {\n",
              "    background-color: var(--hover-bg-color);\n",
              "    box-shadow: 0 1px 2px rgba(60, 64, 67, 0.3), 0 1px 3px 1px rgba(60, 64, 67, 0.15);\n",
              "    fill: var(--button-hover-fill-color);\n",
              "  }\n",
              "\n",
              "  .colab-df-quickchart-complete:disabled,\n",
              "  .colab-df-quickchart-complete:disabled:hover {\n",
              "    background-color: var(--disabled-bg-color);\n",
              "    fill: var(--disabled-fill-color);\n",
              "    box-shadow: none;\n",
              "  }\n",
              "\n",
              "  .colab-df-spinner {\n",
              "    border: 2px solid var(--fill-color);\n",
              "    border-color: transparent;\n",
              "    border-bottom-color: var(--fill-color);\n",
              "    animation:\n",
              "      spin 1s steps(1) infinite;\n",
              "  }\n",
              "\n",
              "  @keyframes spin {\n",
              "    0% {\n",
              "      border-color: transparent;\n",
              "      border-bottom-color: var(--fill-color);\n",
              "      border-left-color: var(--fill-color);\n",
              "    }\n",
              "    20% {\n",
              "      border-color: transparent;\n",
              "      border-left-color: var(--fill-color);\n",
              "      border-top-color: var(--fill-color);\n",
              "    }\n",
              "    30% {\n",
              "      border-color: transparent;\n",
              "      border-left-color: var(--fill-color);\n",
              "      border-top-color: var(--fill-color);\n",
              "      border-right-color: var(--fill-color);\n",
              "    }\n",
              "    40% {\n",
              "      border-color: transparent;\n",
              "      border-right-color: var(--fill-color);\n",
              "      border-top-color: var(--fill-color);\n",
              "    }\n",
              "    60% {\n",
              "      border-color: transparent;\n",
              "      border-right-color: var(--fill-color);\n",
              "    }\n",
              "    80% {\n",
              "      border-color: transparent;\n",
              "      border-right-color: var(--fill-color);\n",
              "      border-bottom-color: var(--fill-color);\n",
              "    }\n",
              "    90% {\n",
              "      border-color: transparent;\n",
              "      border-bottom-color: var(--fill-color);\n",
              "    }\n",
              "  }\n",
              "</style>\n",
              "\n",
              "      <script>\n",
              "        async function quickchart(key) {\n",
              "          const quickchartButtonEl =\n",
              "            document.querySelector('#' + key + ' button');\n",
              "          quickchartButtonEl.disabled = true;  // To prevent multiple clicks.\n",
              "          quickchartButtonEl.classList.add('colab-df-spinner');\n",
              "          try {\n",
              "            const charts = await google.colab.kernel.invokeFunction(\n",
              "                'suggestCharts', [key], {});\n",
              "          } catch (error) {\n",
              "            console.error('Error during call to suggestCharts:', error);\n",
              "          }\n",
              "          quickchartButtonEl.classList.remove('colab-df-spinner');\n",
              "          quickchartButtonEl.classList.add('colab-df-quickchart-complete');\n",
              "        }\n",
              "        (() => {\n",
              "          let quickchartButtonEl =\n",
              "            document.querySelector('#df-e94456be-458a-4005-9d5e-b5a0aee0d8e9 button');\n",
              "          quickchartButtonEl.style.display =\n",
              "            google.colab.kernel.accessAllowed ? 'block' : 'none';\n",
              "        })();\n",
              "      </script>\n",
              "    </div>\n",
              "\n",
              "    </div>\n",
              "  </div>\n"
            ],
            "application/vnd.google.colaboratory.intrinsic+json": {
              "type": "dataframe",
              "summary": "{\n  \"name\": \"display(daily\",\n  \"rows\": 5,\n  \"fields\": [\n    {\n      \"column\": \"date\",\n      \"properties\": {\n        \"dtype\": \"date\",\n        \"min\": \"2023-05-01 00:00:00\",\n        \"max\": \"2023-12-16 00:00:00\",\n        \"num_unique_values\": 5,\n        \"samples\": [\n          \"2023-12-05 00:00:00\",\n          \"2023-12-16 00:00:00\",\n          \"2023-12-14 00:00:00\"\n        ],\n        \"semantic_type\": \"\",\n        \"description\": \"\"\n      }\n    },\n    {\n      \"column\": \"net_pnl\",\n      \"properties\": {\n        \"dtype\": \"number\",\n        \"std\": 89.75525672845444,\n        \"min\": -205.43473700000007,\n        \"max\": 0.0,\n        \"num_unique_values\": 3,\n        \"samples\": [\n          0.0,\n          -205.43473700000007,\n          -24.632033999999997\n        ],\n        \"semantic_type\": \"\",\n        \"description\": \"\"\n      }\n    },\n    {\n      \"column\": \"total_volume\",\n      \"properties\": {\n        \"dtype\": \"number\",\n        \"std\": 46018.8199939025,\n        \"min\": 477.0,\n        \"max\": 113203.35,\n        \"num_unique_values\": 5,\n        \"samples\": [\n          50005.83,\n          15348.77,\n          113203.35\n        ],\n        \"semantic_type\": \"\",\n        \"description\": \"\"\n      }\n    },\n    {\n      \"column\": \"trades\",\n      \"properties\": {\n        \"dtype\": \"number\",\n        \"std\": 4,\n        \"min\": 2,\n        \"max\": 11,\n        \"num_unique_values\": 4,\n        \"samples\": [\n          9,\n          2,\n          3\n        ],\n        \"semantic_type\": \"\",\n        \"description\": \"\"\n      }\n    },\n    {\n      \"column\": \"profit_rate\",\n      \"properties\": {\n        \"dtype\": \"number\",\n        \"std\": 0.16262312563634834,\n        \"min\": 0.0,\n        \"max\": 0.36363636363636365,\n        \"num_unique_values\": 2,\n        \"samples\": [\n          0.36363636363636365,\n          0.0\n        ],\n        \"semantic_type\": \"\",\n        \"description\": \"\"\n      }\n    },\n    {\n      \"column\": \"sentiment\",\n      \"properties\": {\n        \"dtype\": \"category\",\n        \"num_unique_values\": 2,\n        \"samples\": [\n          \"Extreme Greed\",\n          \"Greed\"\n        ],\n        \"semantic_type\": \"\",\n        \"description\": \"\"\n      }\n    },\n    {\n      \"column\": \"cumulative_net_pnl\",\n      \"properties\": {\n        \"dtype\": \"number\",\n        \"std\": 121.93096674018841,\n        \"min\": -230.06677100000007,\n        \"max\": 0.0,\n        \"num_unique_values\": 3,\n        \"samples\": [\n          0.0,\n          -205.43473700000007\n        ],\n        \"semantic_type\": \"\",\n        \"description\": \"\"\n      }\n    }\n  ]\n}"
            }
          },
          "metadata": {}
        }
      ]
    },
    {
      "cell_type": "code",
      "source": [
        "# Plot sentiment vs cumulative PnL and leverage\n",
        "import matplotlib.pyplot as plt\n",
        "import seaborn as sns\n",
        "\n",
        "# Define OUT_DIR using the root variable\n",
        "OUT_DIR = f'{root}/outputs'\n",
        "\n",
        "plt.figure(figsize=(14,5))\n",
        "ax = plt.gca()\n",
        "ax2 = ax.twinx()\n",
        "daily.plot(x='date', y='cumulative_net_pnl', ax=ax, legend=False)\n",
        "# plot sentiment as colored background: convert sentiment to numeric flag (Greed=1 else 0)\n",
        "daily['greed_flag'] = daily['sentiment'].str.contains('Greed', case=False, na=False).astype(int)\n",
        "ax2.plot(daily['date'], daily['greed_flag'], alpha=0.35, linewidth=2)\n",
        "ax.set_ylabel('Cumulative Net PnL')\n",
        "ax2.set_ylabel('Greed flag (1=Greed)')\n",
        "plt.title('Cumulative Net PnL vs Greed periods')\n",
        "plt.savefig(os.path.join(OUT_DIR, 'cumulative_pnl_vs_greed.png'), bbox_inches='tight', dpi=150)\n",
        "plt.show()\n",
        "\n",
        "# Profit rate by sentiment\n",
        "plt.figure(figsize=(7,4))\n",
        "pr = merged.groupby('sentiment')['is_profitable'].mean().reset_index().sort_values('is_profitable', ascending=False)\n",
        "sns.barplot(data=pr, x='sentiment', y='is_profitable')\n",
        "plt.ylabel('Profit Rate')\n",
        "plt.title('Profit Rate by Sentiment')\n",
        "plt.xticks(rotation=45)\n",
        "plt.savefig(os.path.join(OUT_DIR, 'profit_rate_by_sentiment.png'), bbox_inches='tight', dpi=150)\n",
        "plt.show()"
      ],
      "metadata": {
        "colab": {
          "base_uri": "https://localhost:8080/",
          "height": 886
        },
        "id": "1NdkUiLLw8jE",
        "outputId": "f0c5b7d5-9d0c-440f-acee-4f0a9048d424"
      },
      "execution_count": null,
      "outputs": [
        {
          "output_type": "display_data",
          "data": {
            "text/plain": [
              "<Figure size 1400x500 with 2 Axes>"
            ],
            "image/png": "[encoded data removed]"
          },
          "metadata": {}
        },
        {
          "output_type": "display_data",
          "data": {
            "text/plain": [
              "<Figure size 700x400 with 1 Axes>"
            ],
            "image/png": "[encoded data removed]"
          },
          "metadata": {}
        }
      ]
    },
    {
      "cell_type": "code",
      "source": [
        "#Mann-Whitney U test (non-parametric) for closed_pnl distributions\n",
        "from scipy.stats import mannwhitneyu\n",
        "\n",
        "# Build two samples\n",
        "fear_pnl = merged.loc[merged['sentiment'].str.contains('Fear', case=False, na=False), 'closed_pnl'].dropna()\n",
        "greed_pnl = merged.loc[merged['sentiment'].str.contains('Greed', case=False, na=False), 'closed_pnl'].dropna()\n",
        "\n",
        "# if the sizes are too big, subsample for speed\n",
        "if len(fear_pnl)>20000: fear_pnl = fear_pnl.sample(20000, random_state=42)\n",
        "if len(greed_pnl)>20000: greed_pnl = greed_pnl.sample(20000, random_state=42)\n",
        "\n",
        "stat, p = mannwhitneyu(fear_pnl, greed_pnl, alternative='two-sided')\n",
        "print(\"Mann-Whitney U test: stat=%.4f p=%.4g\" % (stat, p))\n"
      ],
      "metadata": {
        "colab": {
          "base_uri": "https://localhost:8080/"
        },
        "id": "kz_6mG0GxXDt",
        "outputId": "a73e3313-a9b7-4bb7-e26e-be35516a8950"
      },
      "execution_count": null,
      "outputs": [
        {
          "output_type": "stream",
          "name": "stdout",
          "text": [
            "Mann-Whitney U test: stat=198259972.0000 p=0.1062\n"
          ]
        }
      ]
    },
    {
      "cell_type": "code",
      "source": [
        "#Build a simple model to predict is_profitable using light features\n",
        "from sklearn.model_selection import train_test_split\n",
        "from sklearn.ensemble import RandomForestClassifier\n",
        "from sklearn.metrics import roc_auc_score, classification_report\n",
        "\n",
        "# Prepare account-day features: groupby account+date\n",
        "acc_daily = merged.groupby(['account','date']).agg(\n",
        "    trades=('order_id' if 'order_id' in merged.columns else 'trade_id','count'),\n",
        "    # avg_leverage=('leverage','mean'),\n",
        "    # median_leverage=('leverage','median'),\n",
        "    total_volume=('notional','sum'),\n",
        "    net_pnl=('closed_pnl','sum'),\n",
        "    profit_rate=('is_profitable','mean'),\n",
        "    sentiment=('sentiment','first')\n",
        ").reset_index()\n",
        "\n",
        "# target: profitable day? (net_pnl > 0)\n",
        "acc_daily['target_profitable_day'] = acc_daily['net_pnl'] > 0\n",
        "\n",
        "# encode sentiment into numeric\n",
        "acc_daily['sentiment_greed'] = acc_daily['sentiment'].str.contains('Greed', case=False, na=False).astype(int)\n",
        "\n",
        "features = ['trades','total_volume','sentiment_greed'] # Removed 'avg_leverage'\n",
        "X = acc_daily[features].fillna(0)\n",
        "y = acc_daily['target_profitable_day'].astype(int)\n",
        "\n",
        "X_train, X_test, y_train, y_test = train_test_split(X, y, test_size=0.2, random_state=42, stratify=y)\n",
        "model = RandomForestClassifier(n_estimators=200, max_depth=8, random_state=42, n_jobs=-1)\n",
        "model.fit(X_train, y_train)\n",
        "y_pred_proba = model.predict_proba(X_test)[:,1]\n",
        "print(\"AUC:\", roc_auc_score(y_test, y_pred_proba))\n",
        "print(classification_report(y_test, model.predict(X_test)))"
      ],
      "metadata": {
        "colab": {
          "base_uri": "https://localhost:8080/"
        },
        "id": "frsT1M5IxbBb",
        "outputId": "28984269-cabc-4dd9-c7bb-d58d978197e8"
      },
      "execution_count": null,
      "outputs": [
        {
          "output_type": "stream",
          "name": "stdout",
          "text": [
            "AUC: 0.663731778425656\n",
            "              precision    recall  f1-score   support\n",
            "\n",
            "           0       0.62      0.33      0.43       175\n",
            "           1       0.69      0.88      0.77       294\n",
            "\n",
            "    accuracy                           0.68       469\n",
            "   macro avg       0.66      0.61      0.60       469\n",
            "weighted avg       0.66      0.68      0.65       469\n",
            "\n"
          ]
        }
      ]
    },
    {
      "cell_type": "code",
      "source": [
        "# Cell 12 — Save processed datasets and aggregated outputs to Drive\n",
        "acc_daily.to_csv(os.path.join(CSV_DIR, 'account_daily_aggregates.csv'), index=False)\n",
        "daily.to_csv(os.path.join(CSV_DIR, 'daily_aggregates.csv'), index=False)\n",
        "merged.to_csv(os.path.join(CSV_DIR, 'merged_trades_sentiment.csv'), index=False)\n",
        "\n",
        "print(\"All CSVs saved to:\", CSV_DIR)\n",
        "print(\"Plots saved to:\", OUT_DIR)\n"
      ],
      "metadata": {
        "colab": {
          "base_uri": "https://localhost:8080/"
        },
        "id": "OTpufJsPyoWJ",
        "outputId": "7f08dd0a-2de6-4f71-d677-68781edba6af"
      },
      "execution_count": null,
      "outputs": [
        {
          "output_type": "stream",
          "name": "stdout",
          "text": [
            "All CSVs saved to: /content/drive/MyDrive/ds_divya/csv_files\n",
            "Plots saved to: /content/drive/MyDrive/ds_divya/outputs\n"
          ]
        }
      ]
    },
    {
      "cell_type": "code",
      "source": [],
      "metadata": {
        "id": "BNYiNGyNypr7"
      },
      "execution_count": null,
      "outputs": []
    }
  ]
}